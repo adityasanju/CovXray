{
 "cells": [
  {
   "cell_type": "code",
   "execution_count": 1,
   "id": "10d88831",
   "metadata": {
    "_cell_guid": "b1076dfc-b9ad-4769-8c92-a6c4dae69d19",
    "_uuid": "8f2839f25d086af736a60e9eeb907d3b93b6e0e5",
    "execution": {
     "iopub.execute_input": "2022-01-22T10:07:17.634078Z",
     "iopub.status.busy": "2022-01-22T10:07:17.632587Z",
     "iopub.status.idle": "2022-01-22T10:07:22.416680Z",
     "shell.execute_reply": "2022-01-22T10:07:22.416027Z",
     "shell.execute_reply.started": "2022-01-22T09:59:27.938983Z"
    },
    "papermill": {
     "duration": 4.805517,
     "end_time": "2022-01-22T10:07:22.416838",
     "exception": false,
     "start_time": "2022-01-22T10:07:17.611321",
     "status": "completed"
    },
    "tags": []
   },
   "outputs": [],
   "source": [
    "import tensorflow as tf\n",
    "from tensorflow.keras import models,layers\n",
    "import matplotlib.pyplot as plt"
   ]
  },
  {
   "cell_type": "code",
   "execution_count": 2,
   "id": "3ca97087",
   "metadata": {
    "execution": {
     "iopub.execute_input": "2022-01-22T10:07:22.454012Z",
     "iopub.status.busy": "2022-01-22T10:07:22.453210Z",
     "iopub.status.idle": "2022-01-22T10:07:22.454997Z",
     "shell.execute_reply": "2022-01-22T10:07:22.455472Z",
     "shell.execute_reply.started": "2022-01-22T09:59:27.946074Z"
    },
    "papermill": {
     "duration": 0.022195,
     "end_time": "2022-01-22T10:07:22.455597",
     "exception": false,
     "start_time": "2022-01-22T10:07:22.433402",
     "status": "completed"
    },
    "tags": []
   },
   "outputs": [],
   "source": [
    "from PIL import Image\n",
    "import os, sys"
   ]
  },
  {
   "cell_type": "code",
   "execution_count": 3,
   "id": "a3a9d939",
   "metadata": {
    "execution": {
     "iopub.execute_input": "2022-01-22T10:07:22.491791Z",
     "iopub.status.busy": "2022-01-22T10:07:22.491024Z",
     "iopub.status.idle": "2022-01-22T10:07:22.493386Z",
     "shell.execute_reply": "2022-01-22T10:07:22.492945Z",
     "shell.execute_reply.started": "2022-01-22T09:59:27.957268Z"
    },
    "papermill": {
     "duration": 0.021806,
     "end_time": "2022-01-22T10:07:22.493493",
     "exception": false,
     "start_time": "2022-01-22T10:07:22.471687",
     "status": "completed"
    },
    "tags": []
   },
   "outputs": [],
   "source": [
    "import warnings\n",
    "warnings.filterwarnings(\"ignore\")"
   ]
  },
  {
   "cell_type": "code",
   "execution_count": 4,
   "id": "503d3c6b",
   "metadata": {
    "execution": {
     "iopub.execute_input": "2022-01-22T10:07:22.530902Z",
     "iopub.status.busy": "2022-01-22T10:07:22.530229Z",
     "iopub.status.idle": "2022-01-22T10:07:22.549068Z",
     "shell.execute_reply": "2022-01-22T10:07:22.548629Z",
     "shell.execute_reply.started": "2022-01-22T09:59:27.965941Z"
    },
    "papermill": {
     "duration": 0.039518,
     "end_time": "2022-01-22T10:07:22.549187",
     "exception": false,
     "start_time": "2022-01-22T10:07:22.509669",
     "status": "completed"
    },
    "tags": []
   },
   "outputs": [],
   "source": [
    "path = ('../input/covid-xray-dataset/DATA/DATA')\n",
    "folders = []\n",
    "for file_name in os.listdir(path):\n",
    "    folders.append(file_name)"
   ]
  },
  {
   "cell_type": "code",
   "execution_count": 5,
   "id": "d48c47ae",
   "metadata": {
    "execution": {
     "iopub.execute_input": "2022-01-22T10:07:22.589349Z",
     "iopub.status.busy": "2022-01-22T10:07:22.588555Z",
     "iopub.status.idle": "2022-01-22T10:07:22.591018Z",
     "shell.execute_reply": "2022-01-22T10:07:22.591464Z",
     "shell.execute_reply.started": "2022-01-22T09:59:27.982098Z"
    },
    "papermill": {
     "duration": 0.024735,
     "end_time": "2022-01-22T10:07:22.591593",
     "exception": false,
     "start_time": "2022-01-22T10:07:22.566858",
     "status": "completed"
    },
    "tags": []
   },
   "outputs": [],
   "source": [
    "for folder in folders:\n",
    "    try:\n",
    "\n",
    "        f = '../input/100-bird-species/train' + folder\n",
    "\n",
    "        for file in os.listdir(f):\n",
    "            f_img = f+\"/\"+file\n",
    "            img = Image.open(f_img)\n",
    "            img = img.resize((256,256))\n",
    "            img.save(f_img)   \n",
    "            \n",
    "    except:\n",
    "        pass"
   ]
  },
  {
   "cell_type": "code",
   "execution_count": 6,
   "id": "c80fc0ab",
   "metadata": {
    "execution": {
     "iopub.execute_input": "2022-01-22T10:07:22.629744Z",
     "iopub.status.busy": "2022-01-22T10:07:22.629227Z",
     "iopub.status.idle": "2022-01-22T10:07:28.239072Z",
     "shell.execute_reply": "2022-01-22T10:07:28.239524Z",
     "shell.execute_reply.started": "2022-01-22T09:59:27.989946Z"
    },
    "papermill": {
     "duration": 5.631275,
     "end_time": "2022-01-22T10:07:28.239677",
     "exception": false,
     "start_time": "2022-01-22T10:07:22.608402",
     "status": "completed"
    },
    "tags": []
   },
   "outputs": [
    {
     "name": "stdout",
     "output_type": "stream",
     "text": [
      "Found 3091 files belonging to 2 classes.\n"
     ]
    },
    {
     "name": "stderr",
     "output_type": "stream",
     "text": [
      "2022-01-22 10:07:25.940415: I tensorflow/stream_executor/cuda/cuda_gpu_executor.cc:937] successful NUMA node read from SysFS had negative value (-1), but there must be at least one NUMA node, so returning NUMA node zero\n",
      "2022-01-22 10:07:26.032292: I tensorflow/stream_executor/cuda/cuda_gpu_executor.cc:937] successful NUMA node read from SysFS had negative value (-1), but there must be at least one NUMA node, so returning NUMA node zero\n",
      "2022-01-22 10:07:26.032998: I tensorflow/stream_executor/cuda/cuda_gpu_executor.cc:937] successful NUMA node read from SysFS had negative value (-1), but there must be at least one NUMA node, so returning NUMA node zero\n",
      "2022-01-22 10:07:26.036821: I tensorflow/core/platform/cpu_feature_guard.cc:142] This TensorFlow binary is optimized with oneAPI Deep Neural Network Library (oneDNN) to use the following CPU instructions in performance-critical operations:  AVX2 AVX512F FMA\n",
      "To enable them in other operations, rebuild TensorFlow with the appropriate compiler flags.\n",
      "2022-01-22 10:07:26.037796: I tensorflow/stream_executor/cuda/cuda_gpu_executor.cc:937] successful NUMA node read from SysFS had negative value (-1), but there must be at least one NUMA node, so returning NUMA node zero\n",
      "2022-01-22 10:07:26.038508: I tensorflow/stream_executor/cuda/cuda_gpu_executor.cc:937] successful NUMA node read from SysFS had negative value (-1), but there must be at least one NUMA node, so returning NUMA node zero\n",
      "2022-01-22 10:07:26.039168: I tensorflow/stream_executor/cuda/cuda_gpu_executor.cc:937] successful NUMA node read from SysFS had negative value (-1), but there must be at least one NUMA node, so returning NUMA node zero\n",
      "2022-01-22 10:07:27.868399: I tensorflow/stream_executor/cuda/cuda_gpu_executor.cc:937] successful NUMA node read from SysFS had negative value (-1), but there must be at least one NUMA node, so returning NUMA node zero\n",
      "2022-01-22 10:07:27.869175: I tensorflow/stream_executor/cuda/cuda_gpu_executor.cc:937] successful NUMA node read from SysFS had negative value (-1), but there must be at least one NUMA node, so returning NUMA node zero\n",
      "2022-01-22 10:07:27.869799: I tensorflow/stream_executor/cuda/cuda_gpu_executor.cc:937] successful NUMA node read from SysFS had negative value (-1), but there must be at least one NUMA node, so returning NUMA node zero\n",
      "2022-01-22 10:07:27.870396: I tensorflow/core/common_runtime/gpu/gpu_device.cc:1510] Created device /job:localhost/replica:0/task:0/device:GPU:0 with 15403 MB memory:  -> device: 0, name: Tesla P100-PCIE-16GB, pci bus id: 0000:00:04.0, compute capability: 6.0\n"
     ]
    }
   ],
   "source": [
    "df = tf.keras.preprocessing.image_dataset_from_directory(\n",
    "    \"../input/covid-xray-dataset/DATA/DATA\",\n",
    "    shuffle = True,\n",
    "    image_size = (256,256),\n",
    "    batch_size = 32\n",
    ")"
   ]
  },
  {
   "cell_type": "code",
   "execution_count": 7,
   "id": "9f4a64b9",
   "metadata": {
    "execution": {
     "iopub.execute_input": "2022-01-22T10:07:28.278983Z",
     "iopub.status.busy": "2022-01-22T10:07:28.278416Z",
     "iopub.status.idle": "2022-01-22T10:07:33.156913Z",
     "shell.execute_reply": "2022-01-22T10:07:33.157373Z",
     "shell.execute_reply.started": "2022-01-22T09:59:28.524885Z"
    },
    "papermill": {
     "duration": 4.900251,
     "end_time": "2022-01-22T10:07:33.157524",
     "exception": false,
     "start_time": "2022-01-22T10:07:28.257273",
     "status": "completed"
    },
    "tags": []
   },
   "outputs": [
    {
     "name": "stderr",
     "output_type": "stream",
     "text": [
      "2022-01-22 10:07:28.306173: I tensorflow/compiler/mlir/mlir_graph_optimization_pass.cc:185] None of the MLIR Optimization Passes are enabled (registered 2)\n"
     ]
    },
    {
     "name": "stdout",
     "output_type": "stream",
     "text": [
      "1\n"
     ]
    },
    {
     "data": {
      "image/png": "[encoded data removed]",
      "text/plain": [
       "<Figure size 432x288 with 1 Axes>"
      ]
     },
     "metadata": {
      "needs_background": "light"
     },
     "output_type": "display_data"
    }
   ],
   "source": [
    "for image_batch, label_batch in df.take(1):\n",
    "    plt.imshow(image_batch[0].numpy().astype('uint8'))\n",
    "    print(df.class_names[label_batch[0].numpy()])"
   ]
  },
  {
   "cell_type": "code",
   "execution_count": 8,
   "id": "9c9d92a9",
   "metadata": {
    "execution": {
     "iopub.execute_input": "2022-01-22T10:07:33.207201Z",
     "iopub.status.busy": "2022-01-22T10:07:33.206262Z",
     "iopub.status.idle": "2022-01-22T10:07:33.208336Z",
     "shell.execute_reply": "2022-01-22T10:07:33.208845Z",
     "shell.execute_reply.started": "2022-01-22T09:59:32.188578Z"
    },
    "papermill": {
     "duration": 0.030735,
     "end_time": "2022-01-22T10:07:33.209010",
     "exception": false,
     "start_time": "2022-01-22T10:07:33.178275",
     "status": "completed"
    },
    "tags": []
   },
   "outputs": [],
   "source": [
    "def get_dataset_partitions_tf(ds, train_split=0.8, val_split=0.1, test_split=0.1, shuffle=True, shuffle_size=10000):\n",
    "        \n",
    "    train_size = int(train_split * len(df))\n",
    "    val_size = int(val_split * len(df))\n",
    "    \n",
    "    train_df = df.take(train_size)    \n",
    "    val_df = df.skip(train_size).take(val_size)\n",
    "    test_df = df.skip(train_size).skip(val_size)\n",
    "    \n",
    "    return train_df, val_df, test_df"
   ]
  },
  {
   "cell_type": "code",
   "execution_count": 9,
   "id": "0bd6a217",
   "metadata": {
    "execution": {
     "iopub.execute_input": "2022-01-22T10:07:33.253313Z",
     "iopub.status.busy": "2022-01-22T10:07:33.252578Z",
     "iopub.status.idle": "2022-01-22T10:07:33.258654Z",
     "shell.execute_reply": "2022-01-22T10:07:33.258213Z",
     "shell.execute_reply.started": "2022-01-22T09:59:32.198166Z"
    },
    "papermill": {
     "duration": 0.028697,
     "end_time": "2022-01-22T10:07:33.258754",
     "exception": false,
     "start_time": "2022-01-22T10:07:33.230057",
     "status": "completed"
    },
    "tags": []
   },
   "outputs": [],
   "source": [
    "train_df, val_df, test_df = get_dataset_partitions_tf(df)"
   ]
  },
  {
   "cell_type": "code",
   "execution_count": 10,
   "id": "51c412b2",
   "metadata": {
    "execution": {
     "iopub.execute_input": "2022-01-22T10:07:33.303823Z",
     "iopub.status.busy": "2022-01-22T10:07:33.303032Z",
     "iopub.status.idle": "2022-01-22T10:07:33.308705Z",
     "shell.execute_reply": "2022-01-22T10:07:33.308248Z",
     "shell.execute_reply.started": "2022-01-22T09:59:32.216728Z"
    },
    "papermill": {
     "duration": 0.030986,
     "end_time": "2022-01-22T10:07:33.308804",
     "exception": false,
     "start_time": "2022-01-22T10:07:33.277818",
     "status": "completed"
    },
    "tags": []
   },
   "outputs": [],
   "source": [
    "train_df = train_df.cache().shuffle(100).prefetch(buffer_size=tf.data.AUTOTUNE)\n",
    "val_df = val_df.cache().shuffle(1000).prefetch(buffer_size=tf.data.AUTOTUNE)\n",
    "test_df = test_df.cache().shuffle(1000).prefetch(buffer_size=tf.data.AUTOTUNE)"
   ]
  },
  {
   "cell_type": "code",
   "execution_count": 11,
   "id": "168aaf95",
   "metadata": {
    "execution": {
     "iopub.execute_input": "2022-01-22T10:07:33.350812Z",
     "iopub.status.busy": "2022-01-22T10:07:33.350313Z",
     "iopub.status.idle": "2022-01-22T10:07:33.371716Z",
     "shell.execute_reply": "2022-01-22T10:07:33.372146Z",
     "shell.execute_reply.started": "2022-01-22T09:59:32.228621Z"
    },
    "papermill": {
     "duration": 0.04452,
     "end_time": "2022-01-22T10:07:33.372267",
     "exception": false,
     "start_time": "2022-01-22T10:07:33.327747",
     "status": "completed"
    },
    "tags": []
   },
   "outputs": [],
   "source": [
    "preprocess = tf.keras.Sequential([\n",
    "  layers.experimental.preprocessing.Resizing(256,256),\n",
    "  layers.experimental.preprocessing.Rescaling(1./255),\n",
    "])"
   ]
  },
  {
   "cell_type": "code",
   "execution_count": 12,
   "id": "5c3ff1af",
   "metadata": {
    "execution": {
     "iopub.execute_input": "2022-01-22T10:07:33.415077Z",
     "iopub.status.busy": "2022-01-22T10:07:33.414287Z",
     "iopub.status.idle": "2022-01-22T10:07:33.422909Z",
     "shell.execute_reply": "2022-01-22T10:07:33.422497Z",
     "shell.execute_reply.started": "2022-01-22T09:59:32.240063Z"
    },
    "papermill": {
     "duration": 0.031652,
     "end_time": "2022-01-22T10:07:33.423080",
     "exception": false,
     "start_time": "2022-01-22T10:07:33.391428",
     "status": "completed"
    },
    "tags": []
   },
   "outputs": [],
   "source": [
    "df_augmentation = tf.keras.Sequential([\n",
    "  layers.experimental.preprocessing.RandomFlip(\"horizontal_and_vertical\"),\n",
    "  layers.experimental.preprocessing.RandomRotation(0.2),\n",
    "])"
   ]
  },
  {
   "cell_type": "code",
   "execution_count": 13,
   "id": "d3663fe3",
   "metadata": {
    "execution": {
     "iopub.execute_input": "2022-01-22T10:07:33.463793Z",
     "iopub.status.busy": "2022-01-22T10:07:33.463045Z",
     "iopub.status.idle": "2022-01-22T10:07:33.680256Z",
     "shell.execute_reply": "2022-01-22T10:07:33.679719Z",
     "shell.execute_reply.started": "2022-01-22T09:59:32.256094Z"
    },
    "papermill": {
     "duration": 0.238289,
     "end_time": "2022-01-22T10:07:33.680397",
     "exception": false,
     "start_time": "2022-01-22T10:07:33.442108",
     "status": "completed"
    },
    "tags": []
   },
   "outputs": [],
   "source": [
    "train_df = train_df.map(\n",
    "    lambda x, y: (df_augmentation(x, training=True), y)\n",
    ").prefetch(buffer_size=tf.data.AUTOTUNE)"
   ]
  },
  {
   "cell_type": "code",
   "execution_count": 14,
   "id": "ea8e36ac",
   "metadata": {
    "execution": {
     "iopub.execute_input": "2022-01-22T10:07:33.737908Z",
     "iopub.status.busy": "2022-01-22T10:07:33.737060Z",
     "iopub.status.idle": "2022-01-22T10:07:33.806781Z",
     "shell.execute_reply": "2022-01-22T10:07:33.807268Z",
     "shell.execute_reply.started": "2022-01-22T09:59:32.480088Z"
    },
    "papermill": {
     "duration": 0.107438,
     "end_time": "2022-01-22T10:07:33.807435",
     "exception": false,
     "start_time": "2022-01-22T10:07:33.699997",
     "status": "completed"
    },
    "tags": []
   },
   "outputs": [],
   "source": [
    "callback = tf.keras.callbacks.EarlyStopping(monitor='loss', patience=3)\n",
    "\n",
    "model = models.Sequential([\n",
    "    preprocess,\n",
    "    layers.Conv2D(32, kernel_size = (3,3), activation='relu', input_shape=(32,256,256,3)),\n",
    "    layers.MaxPooling2D((2, 2),padding='same'),\n",
    "    layers.Conv2D(64,  kernel_size = (3,3), activation='relu'),\n",
    "    layers.MaxPooling2D((2, 2),padding='same'),\n",
    "    layers.Conv2D(64,  kernel_size = (3,3), activation='relu'),\n",
    "    layers.MaxPooling2D((2, 2),padding='same'),\n",
    "    \n",
    "\n",
    "    layers.Flatten(),\n",
    "    layers.Dense(64, activation='relu'),\n",
    "    layers.Dropout(0.2),\n",
    "    layers.Dense(1, activation='sigmoid'),\n",
    "])\n",
    "\n",
    "model.build(input_shape=(32,256,256,3))"
   ]
  },
  {
   "cell_type": "code",
   "execution_count": 15,
   "id": "76707557",
   "metadata": {
    "execution": {
     "iopub.execute_input": "2022-01-22T10:07:33.855380Z",
     "iopub.status.busy": "2022-01-22T10:07:33.854554Z",
     "iopub.status.idle": "2022-01-22T10:07:33.860848Z",
     "shell.execute_reply": "2022-01-22T10:07:33.860447Z",
     "shell.execute_reply.started": "2022-01-22T09:59:32.571368Z"
    },
    "papermill": {
     "duration": 0.033843,
     "end_time": "2022-01-22T10:07:33.860982",
     "exception": false,
     "start_time": "2022-01-22T10:07:33.827139",
     "status": "completed"
    },
    "tags": []
   },
   "outputs": [],
   "source": [
    "model.compile(\n",
    "    optimizer='adam',\n",
    "    loss='binary_crossentropy',\n",
    "    metrics=['accuracy']\n",
    ")"
   ]
  },
  {
   "cell_type": "code",
   "execution_count": 16,
   "id": "bdfa9dd2",
   "metadata": {
    "execution": {
     "iopub.execute_input": "2022-01-22T10:07:33.905757Z",
     "iopub.status.busy": "2022-01-22T10:07:33.904335Z",
     "iopub.status.idle": "2022-01-22T10:07:33.911902Z",
     "shell.execute_reply": "2022-01-22T10:07:33.911483Z",
     "shell.execute_reply.started": "2022-01-22T09:59:32.587622Z"
    },
    "papermill": {
     "duration": 0.03177,
     "end_time": "2022-01-22T10:07:33.912051",
     "exception": false,
     "start_time": "2022-01-22T10:07:33.880281",
     "status": "completed"
    },
    "tags": []
   },
   "outputs": [
    {
     "name": "stdout",
     "output_type": "stream",
     "text": [
      "Model: \"sequential_2\"\n",
      "_________________________________________________________________\n",
      "Layer (type)                 Output Shape              Param #   \n",
      "=================================================================\n",
      "sequential (Sequential)      (32, 256, 256, 3)         0         \n",
      "_________________________________________________________________\n",
      "conv2d (Conv2D)              (32, 254, 254, 32)        896       \n",
      "_________________________________________________________________\n",
      "max_pooling2d (MaxPooling2D) (32, 127, 127, 32)        0         \n",
      "_________________________________________________________________\n",
      "conv2d_1 (Conv2D)            (32, 125, 125, 64)        18496     \n",
      "_________________________________________________________________\n",
      "max_pooling2d_1 (MaxPooling2 (32, 63, 63, 64)          0         \n",
      "_________________________________________________________________\n",
      "conv2d_2 (Conv2D)            (32, 61, 61, 64)          36928     \n",
      "_________________________________________________________________\n",
      "max_pooling2d_2 (MaxPooling2 (32, 31, 31, 64)          0         \n",
      "_________________________________________________________________\n",
      "flatten (Flatten)            (32, 61504)               0         \n",
      "_________________________________________________________________\n",
      "dense (Dense)                (32, 64)                  3936320   \n",
      "_________________________________________________________________\n",
      "dropout (Dropout)            (32, 64)                  0         \n",
      "_________________________________________________________________\n",
      "dense_1 (Dense)              (32, 1)                   65        \n",
      "=================================================================\n",
      "Total params: 3,992,705\n",
      "Trainable params: 3,992,705\n",
      "Non-trainable params: 0\n",
      "_________________________________________________________________\n"
     ]
    }
   ],
   "source": [
    "model.summary()"
   ]
  },
  {
   "cell_type": "code",
   "execution_count": 17,
   "id": "0ab3e622",
   "metadata": {
    "execution": {
     "iopub.execute_input": "2022-01-22T10:07:33.954349Z",
     "iopub.status.busy": "2022-01-22T10:07:33.953517Z",
     "iopub.status.idle": "2022-01-22T10:11:47.288173Z",
     "shell.execute_reply": "2022-01-22T10:11:47.287681Z",
     "shell.execute_reply.started": "2022-01-22T09:59:32.601524Z"
    },
    "papermill": {
     "duration": 253.356481,
     "end_time": "2022-01-22T10:11:47.288316",
     "exception": false,
     "start_time": "2022-01-22T10:07:33.931835",
     "status": "completed"
    },
    "tags": []
   },
   "outputs": [
    {
     "name": "stdout",
     "output_type": "stream",
     "text": [
      "Epoch 1/30\n"
     ]
    },
    {
     "name": "stderr",
     "output_type": "stream",
     "text": [
      "2022-01-22 10:07:44.886087: I tensorflow/core/kernels/data/shuffle_dataset_op.cc:175] Filling up shuffle buffer (this may take a while): 23 of 100\n",
      "2022-01-22 10:07:54.869377: I tensorflow/core/kernels/data/shuffle_dataset_op.cc:175] Filling up shuffle buffer (this may take a while): 54 of 100\n",
      "2022-01-22 10:08:02.847244: I tensorflow/core/kernels/data/shuffle_dataset_op.cc:228] Shuffle buffer filled.\n",
      "2022-01-22 10:08:04.089694: I tensorflow/stream_executor/cuda/cuda_dnn.cc:369] Loaded cuDNN version 8005\n"
     ]
    },
    {
     "name": "stdout",
     "output_type": "stream",
     "text": [
      "77/77 [==============================] - ETA: 0s - loss: 0.6836 - accuracy: 0.5767"
     ]
    },
    {
     "name": "stderr",
     "output_type": "stream",
     "text": [
      "2022-01-22 10:08:47.476865: I tensorflow/core/kernels/data/shuffle_dataset_op.cc:175] Filling up shuffle buffer (this may take a while): 1 of 1000\n",
      "2022-01-22 10:08:48.316192: I tensorflow/core/kernels/data/shuffle_dataset_op.cc:175] Filling up shuffle buffer (this may take a while): 3 of 1000\n"
     ]
    },
    {
     "name": "stdout",
     "output_type": "stream",
     "text": [
      "77/77 [==============================] - 77s 544ms/step - loss: 0.6836 - accuracy: 0.5767 - val_loss: 0.6643 - val_accuracy: 0.5799\n"
     ]
    },
    {
     "name": "stderr",
     "output_type": "stream",
     "text": [
      "2022-01-22 10:08:50.916250: I tensorflow/core/kernels/data/shuffle_dataset_op.cc:228] Shuffle buffer filled.\n"
     ]
    },
    {
     "name": "stdout",
     "output_type": "stream",
     "text": [
      "Epoch 2/30\n",
      "77/77 [==============================] - 19s 253ms/step - loss: 0.4835 - accuracy: 0.7557 - val_loss: 0.4378 - val_accuracy: 0.8160\n",
      "Epoch 3/30\n",
      "77/77 [==============================] - 19s 250ms/step - loss: 0.3413 - accuracy: 0.8547 - val_loss: 0.2915 - val_accuracy: 0.8715\n",
      "Epoch 4/30\n",
      "77/77 [==============================] - 20s 258ms/step - loss: 0.2875 - accuracy: 0.8896 - val_loss: 0.2748 - val_accuracy: 0.8889\n",
      "Epoch 5/30\n",
      "77/77 [==============================] - 20s 255ms/step - loss: 0.2626 - accuracy: 0.9062 - val_loss: 0.2135 - val_accuracy: 0.9167\n",
      "Epoch 6/30\n",
      "77/77 [==============================] - 20s 253ms/step - loss: 0.2580 - accuracy: 0.9010 - val_loss: 0.2835 - val_accuracy: 0.8750\n",
      "Epoch 7/30\n",
      "77/77 [==============================] - 20s 257ms/step - loss: 0.2207 - accuracy: 0.9213 - val_loss: 0.2892 - val_accuracy: 0.8646\n",
      "Epoch 8/30\n",
      "77/77 [==============================] - 19s 246ms/step - loss: 0.2355 - accuracy: 0.9156 - val_loss: 0.2199 - val_accuracy: 0.9062\n",
      "Epoch 9/30\n",
      "77/77 [==============================] - 20s 254ms/step - loss: 0.2307 - accuracy: 0.9217 - val_loss: 0.3009 - val_accuracy: 0.8889\n",
      "Epoch 10/30\n",
      "77/77 [==============================] - 19s 251ms/step - loss: 0.2292 - accuracy: 0.9253 - val_loss: 0.2066 - val_accuracy: 0.9132\n"
     ]
    }
   ],
   "source": [
    "hist = model.fit(\n",
    "    train_df,\n",
    "    validation_data = val_df,\n",
    "    verbose = 1,\n",
    "    batch_size = 32,\n",
    "    epochs=30,\n",
    "    callbacks=[callback]\n",
    ")"
   ]
  },
  {
   "cell_type": "code",
   "execution_count": 18,
   "id": "80ae0e7b",
   "metadata": {
    "execution": {
     "iopub.execute_input": "2022-01-22T10:11:47.751092Z",
     "iopub.status.busy": "2022-01-22T10:11:47.750295Z",
     "iopub.status.idle": "2022-01-22T10:12:10.118734Z",
     "shell.execute_reply": "2022-01-22T10:12:10.118283Z",
     "shell.execute_reply.started": "2022-01-22T10:04:14.398939Z"
    },
    "papermill": {
     "duration": 22.608575,
     "end_time": "2022-01-22T10:12:10.118866",
     "exception": false,
     "start_time": "2022-01-22T10:11:47.510291",
     "status": "completed"
    },
    "tags": []
   },
   "outputs": [
    {
     "name": "stderr",
     "output_type": "stream",
     "text": [
      "2022-01-22 10:12:08.967864: I tensorflow/core/kernels/data/shuffle_dataset_op.cc:175] Filling up shuffle buffer (this may take a while): 1 of 1000\n",
      "2022-01-22 10:12:09.392267: I tensorflow/core/kernels/data/shuffle_dataset_op.cc:175] Filling up shuffle buffer (this may take a while): 2 of 1000\n"
     ]
    },
    {
     "name": "stdout",
     "output_type": "stream",
     "text": [
      " 5/11 [============>.................] - ETA: 0s - loss: 0.2313 - accuracy: 0.9125  "
     ]
    },
    {
     "name": "stderr",
     "output_type": "stream",
     "text": [
      "2022-01-22 10:12:09.842284: I tensorflow/core/kernels/data/shuffle_dataset_op.cc:228] Shuffle buffer filled.\n"
     ]
    },
    {
     "name": "stdout",
     "output_type": "stream",
     "text": [
      "11/11 [==============================] - 22s 25ms/step - loss: 0.2230 - accuracy: 0.9204\n"
     ]
    },
    {
     "data": {
      "text/plain": [
       "[0.22304601967334747, 0.9203540086746216]"
      ]
     },
     "execution_count": 18,
     "metadata": {},
     "output_type": "execute_result"
    }
   ],
   "source": [
    "model.evaluate(test_df)"
   ]
  },
  {
   "cell_type": "code",
   "execution_count": 19,
   "id": "6443983b",
   "metadata": {
    "execution": {
     "iopub.execute_input": "2022-01-22T10:12:10.577251Z",
     "iopub.status.busy": "2022-01-22T10:12:10.575433Z",
     "iopub.status.idle": "2022-01-22T10:12:10.577946Z",
     "shell.execute_reply": "2022-01-22T10:12:10.578347Z",
     "shell.execute_reply.started": "2022-01-22T10:04:35.556546Z"
    },
    "papermill": {
     "duration": 0.234041,
     "end_time": "2022-01-22T10:12:10.578475",
     "exception": false,
     "start_time": "2022-01-22T10:12:10.344434",
     "status": "completed"
    },
    "tags": []
   },
   "outputs": [],
   "source": [
    "acc = hist.history['accuracy']\n",
    "val_acc = hist.history['val_accuracy']\n",
    "\n",
    "loss = hist.history['loss']\n",
    "val_loss = hist.history['val_loss']"
   ]
  },
  {
   "cell_type": "code",
   "execution_count": 20,
   "id": "41ec805f",
   "metadata": {
    "execution": {
     "iopub.execute_input": "2022-01-22T10:12:11.037091Z",
     "iopub.status.busy": "2022-01-22T10:12:11.036430Z",
     "iopub.status.idle": "2022-01-22T10:12:50.270495Z",
     "shell.execute_reply": "2022-01-22T10:12:50.270916Z",
     "shell.execute_reply.started": "2022-01-22T10:04:35.564924Z"
    },
    "papermill": {
     "duration": 39.468909,
     "end_time": "2022-01-22T10:12:50.271071",
     "exception": false,
     "start_time": "2022-01-22T10:12:10.802162",
     "status": "completed"
    },
    "tags": []
   },
   "outputs": [
    {
     "data": {
      "image/png": "[encoded data removed]",
      "text/plain": [
       "<Figure size 576x576 with 1 Axes>"
      ]
     },
     "metadata": {
      "needs_background": "light"
     },
     "output_type": "display_data"
    }
   ],
   "source": [
    "fig,ax = plt.subplots(figsize = (8,8))\n",
    "ax.plot(acc, label='Training Accuracy')\n",
    "ax.plot(val_acc, label='Validation Accuracy')\n",
    "plt.legend(loc='lower right')\n",
    "plt.title('Accuracy')\n",
    "plt.show()"
   ]
  },
  {
   "cell_type": "code",
   "execution_count": 21,
   "id": "88a1f328",
   "metadata": {
    "execution": {
     "iopub.execute_input": "2022-01-22T10:12:50.757143Z",
     "iopub.status.busy": "2022-01-22T10:12:50.755278Z",
     "iopub.status.idle": "2022-01-22T10:12:50.916045Z",
     "shell.execute_reply": "2022-01-22T10:12:50.915535Z",
     "shell.execute_reply.started": "2022-01-22T10:04:36.804202Z"
    },
    "papermill": {
     "duration": 0.419414,
     "end_time": "2022-01-22T10:12:50.916216",
     "exception": false,
     "start_time": "2022-01-22T10:12:50.496802",
     "status": "completed"
    },
    "tags": []
   },
   "outputs": [
    {
     "data": {
      "image/png": "[encoded data removed]",
      "text/plain": [
       "<Figure size 576x576 with 1 Axes>"
      ]
     },
     "metadata": {
      "needs_background": "light"
     },
     "output_type": "display_data"
    }
   ],
   "source": [
    "fig,ax = plt.subplots(figsize = (8,8))\n",
    "plt.plot( loss, label='Training Loss')\n",
    "plt.plot( val_loss, label='Validation Loss')\n",
    "plt.legend(loc='upper right')\n",
    "plt.title('Loss')\n",
    "plt.show()"
   ]
  },
  {
   "cell_type": "code",
   "execution_count": 22,
   "id": "4557e2b7",
   "metadata": {
    "execution": {
     "iopub.execute_input": "2022-01-22T10:12:51.378074Z",
     "iopub.status.busy": "2022-01-22T10:12:51.377276Z",
     "iopub.status.idle": "2022-01-22T10:12:53.157276Z",
     "shell.execute_reply": "2022-01-22T10:12:53.157869Z",
     "shell.execute_reply.started": "2022-01-22T10:04:36.994825Z"
    },
    "papermill": {
     "duration": 2.014219,
     "end_time": "2022-01-22T10:12:53.158061",
     "exception": false,
     "start_time": "2022-01-22T10:12:51.143842",
     "status": "completed"
    },
    "tags": []
   },
   "outputs": [
    {
     "name": "stderr",
     "output_type": "stream",
     "text": [
      "2022-01-22 10:12:51.827155: W tensorflow/python/util/util.cc:348] Sets are not currently considered sequences, but this may change in the future, so consider avoiding using them.\n"
     ]
    }
   ],
   "source": [
    "model.save('./')"
   ]
  },
  {
   "cell_type": "code",
   "execution_count": null,
   "id": "ba9a259c",
   "metadata": {
    "papermill": {
     "duration": 0.228074,
     "end_time": "2022-01-22T10:12:53.613330",
     "exception": false,
     "start_time": "2022-01-22T10:12:53.385256",
     "status": "completed"
    },
    "tags": []
   },
   "outputs": [],
   "source": []
  }
 ],
 "metadata": {
  "kernelspec": {
   "display_name": "Python 3",
   "language": "python",
   "name": "python3"
  },
  "language_info": {
   "codemirror_mode": {
    "name": "ipython",
    "version": 3
   },
   "file_extension": ".py",
   "mimetype": "text/x-python",
   "name": "python",
   "nbconvert_exporter": "python",
   "pygments_lexer": "ipython3",
   "version": "3.7.12"
  },
  "papermill": {
   "default_parameters": {},
   "duration": 347.56707,
   "end_time": "2022-01-22T10:12:56.900615",
   "environment_variables": {},
   "exception": null,
   "input_path": "__notebook__.ipynb",
   "output_path": "__notebook__.ipynb",
   "parameters": {},
   "start_time": "2022-01-22T10:07:09.333545",
   "version": "2.3.3"
  }
 },
 "nbformat": 4,
 "nbformat_minor": 5
}
